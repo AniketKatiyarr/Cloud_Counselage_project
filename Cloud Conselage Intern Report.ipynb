{
 "cells": [
  {
   "cell_type": "code",
   "execution_count": 1,
   "id": "bc6db299",
   "metadata": {},
   "outputs": [],
   "source": [
    "import pandas as pd\n",
    "import matplotlib.pyplot as plt\n",
    "%matplotlib inline\n",
    "import numpy as np"
   ]
  },
  {
   "cell_type": "code",
   "execution_count": 2,
   "id": "3f4619bc",
   "metadata": {
    "scrolled": true
   },
   "outputs": [
    {
     "data": {
      "text/html": [
       "<div>\n",
       "<style scoped>\n",
       "    .dataframe tbody tr th:only-of-type {\n",
       "        vertical-align: middle;\n",
       "    }\n",
       "\n",
       "    .dataframe tbody tr th {\n",
       "        vertical-align: top;\n",
       "    }\n",
       "\n",
       "    .dataframe thead th {\n",
       "        text-align: right;\n",
       "    }\n",
       "</style>\n",
       "<table border=\"1\" class=\"dataframe\">\n",
       "  <thead>\n",
       "    <tr style=\"text-align: right;\">\n",
       "      <th></th>\n",
       "      <th>First Name</th>\n",
       "      <th>Email ID</th>\n",
       "      <th>Quantity</th>\n",
       "      <th>Events</th>\n",
       "      <th>Attendee Status</th>\n",
       "      <th>College Name</th>\n",
       "      <th>How did you come to know about this event?</th>\n",
       "      <th>Specify in \"Others\" (how did you come to know about this event)</th>\n",
       "      <th>Designation</th>\n",
       "      <th>Year of Graduation</th>\n",
       "      <th>City</th>\n",
       "      <th>CGPA</th>\n",
       "      <th>Experience with python (Months)</th>\n",
       "      <th>Family Income</th>\n",
       "      <th>Expected salary (Lac)</th>\n",
       "      <th>Leadership- skills</th>\n",
       "    </tr>\n",
       "  </thead>\n",
       "  <tbody>\n",
       "    <tr>\n",
       "      <th>0</th>\n",
       "      <td>ANIKET</td>\n",
       "      <td>aniket@xyz.com</td>\n",
       "      <td>1</td>\n",
       "      <td>Art of Resume Building</td>\n",
       "      <td>Attending</td>\n",
       "      <td>D Y PATIL INSTITUTE OF MCA AND MANAGEMENT AKUR...</td>\n",
       "      <td>Email</td>\n",
       "      <td>NaN</td>\n",
       "      <td>Students</td>\n",
       "      <td>2024</td>\n",
       "      <td>Patna</td>\n",
       "      <td>6.7</td>\n",
       "      <td>7</td>\n",
       "      <td>7 Lakh+</td>\n",
       "      <td>6</td>\n",
       "      <td>yes</td>\n",
       "    </tr>\n",
       "    <tr>\n",
       "      <th>1</th>\n",
       "      <td>Dhanshree</td>\n",
       "      <td>dhanshree@xyz.com</td>\n",
       "      <td>1</td>\n",
       "      <td>Art of Resume Building</td>\n",
       "      <td>Attending</td>\n",
       "      <td>AP SHAH INSTITUTE OF TECHNOLOGY</td>\n",
       "      <td>Others</td>\n",
       "      <td>College</td>\n",
       "      <td>Students</td>\n",
       "      <td>2024</td>\n",
       "      <td>Amravati</td>\n",
       "      <td>8.2</td>\n",
       "      <td>3</td>\n",
       "      <td>0-2 Lakh</td>\n",
       "      <td>7</td>\n",
       "      <td>no</td>\n",
       "    </tr>\n",
       "    <tr>\n",
       "      <th>2</th>\n",
       "      <td>Dhiraj</td>\n",
       "      <td>dhiraj@xyz.com</td>\n",
       "      <td>1</td>\n",
       "      <td>Art of Resume Building</td>\n",
       "      <td>Attending</td>\n",
       "      <td>Don Bosco College of Engineering Fatorda Goa</td>\n",
       "      <td>Email</td>\n",
       "      <td>NaN</td>\n",
       "      <td>Students</td>\n",
       "      <td>2023</td>\n",
       "      <td>Kunrool</td>\n",
       "      <td>6.5</td>\n",
       "      <td>4</td>\n",
       "      <td>5-7 Lakh</td>\n",
       "      <td>7</td>\n",
       "      <td>no</td>\n",
       "    </tr>\n",
       "    <tr>\n",
       "      <th>3</th>\n",
       "      <td>Pooja</td>\n",
       "      <td>pooja@xyz.com</td>\n",
       "      <td>1</td>\n",
       "      <td>Art of Resume Building</td>\n",
       "      <td>Attending</td>\n",
       "      <td>Pillai College of Engineering New Panvel</td>\n",
       "      <td>Email</td>\n",
       "      <td>NaN</td>\n",
       "      <td>Students</td>\n",
       "      <td>2025</td>\n",
       "      <td>Tirupati</td>\n",
       "      <td>8.7</td>\n",
       "      <td>7</td>\n",
       "      <td>2-5 Lakh</td>\n",
       "      <td>8</td>\n",
       "      <td>no</td>\n",
       "    </tr>\n",
       "    <tr>\n",
       "      <th>4</th>\n",
       "      <td>Aayush</td>\n",
       "      <td>aayush@xyz.com</td>\n",
       "      <td>1</td>\n",
       "      <td>Art of Resume Building</td>\n",
       "      <td>Attending</td>\n",
       "      <td>St Xavier's College</td>\n",
       "      <td>Instagram | LinkedIn | Cloud Counselage Website</td>\n",
       "      <td>NaN</td>\n",
       "      <td>Students</td>\n",
       "      <td>2024</td>\n",
       "      <td>Vijaywada</td>\n",
       "      <td>9.1</td>\n",
       "      <td>3</td>\n",
       "      <td>0-2 Lakh</td>\n",
       "      <td>10</td>\n",
       "      <td>yes</td>\n",
       "    </tr>\n",
       "  </tbody>\n",
       "</table>\n",
       "</div>"
      ],
      "text/plain": [
       "  First Name           Email ID  Quantity                  Events  \\\n",
       "0     ANIKET     aniket@xyz.com         1  Art of Resume Building   \n",
       "1  Dhanshree  dhanshree@xyz.com         1  Art of Resume Building   \n",
       "2     Dhiraj     dhiraj@xyz.com         1  Art of Resume Building   \n",
       "3      Pooja      pooja@xyz.com         1  Art of Resume Building   \n",
       "4     Aayush     aayush@xyz.com         1  Art of Resume Building   \n",
       "\n",
       "  Attendee Status                                       College Name  \\\n",
       "0       Attending  D Y PATIL INSTITUTE OF MCA AND MANAGEMENT AKUR...   \n",
       "1       Attending                   AP SHAH INSTITUTE OF TECHNOLOGY    \n",
       "2       Attending       Don Bosco College of Engineering Fatorda Goa   \n",
       "3       Attending           Pillai College of Engineering New Panvel   \n",
       "4       Attending                               St Xavier's College    \n",
       "\n",
       "        How did you come to know about this event?  \\\n",
       "0                                            Email   \n",
       "1                                           Others   \n",
       "2                                            Email   \n",
       "3                                            Email   \n",
       "4  Instagram | LinkedIn | Cloud Counselage Website   \n",
       "\n",
       "  Specify in \"Others\" (how did you come to know about this event) Designation  \\\n",
       "0                                                NaN                 Students   \n",
       "1                                            College                 Students   \n",
       "2                                                NaN                 Students   \n",
       "3                                                NaN                 Students   \n",
       "4                                                NaN                 Students   \n",
       "\n",
       "   Year of Graduation       City  CGPA  Experience with python (Months)  \\\n",
       "0                2024      Patna   6.7                                7   \n",
       "1                2024   Amravati   8.2                                3   \n",
       "2                2023    Kunrool   6.5                                4   \n",
       "3                2025   Tirupati   8.7                                7   \n",
       "4                2024  Vijaywada   9.1                                3   \n",
       "\n",
       "  Family Income  Expected salary (Lac) Leadership- skills  \n",
       "0       7 Lakh+                      6                yes  \n",
       "1      0-2 Lakh                      7                 no  \n",
       "2      5-7 Lakh                      7                 no  \n",
       "3      2-5 Lakh                      8                 no  \n",
       "4      0-2 Lakh                     10                yes  "
      ]
     },
     "execution_count": 2,
     "metadata": {},
     "output_type": "execute_result"
    }
   ],
   "source": [
    "df = pd.read_excel(\"IAC_Data_analyst_Data.xlsx\")\n",
    "df.head()"
   ]
  },
  {
   "cell_type": "markdown",
   "id": "087e3be6",
   "metadata": {},
   "source": [
    "* 1. What is the average CGPA of student ? "
   ]
  },
  {
   "cell_type": "code",
   "execution_count": 3,
   "id": "2d0826b1",
   "metadata": {
    "scrolled": true
   },
   "outputs": [
    {
     "data": {
      "text/plain": [
       "8.038475684511647"
      ]
     },
     "execution_count": 3,
     "metadata": {},
     "output_type": "execute_result"
    }
   ],
   "source": [
    "avg = df[\"CGPA\"].mean()\n",
    "avg"
   ]
  },
  {
   "cell_type": "markdown",
   "id": "73766fe0",
   "metadata": {},
   "source": [
    "* 2. What is the distribution of student across different graudation years ?"
   ]
  },
  {
   "cell_type": "code",
   "execution_count": 4,
   "id": "90305483",
   "metadata": {},
   "outputs": [
    {
     "name": "stdout",
     "output_type": "stream",
     "text": [
      "   Graduation_year  Number_of_Students\n",
      "0             2023                1536\n",
      "1             2024                1511\n",
      "2             2025                1292\n",
      "3             2026                 555\n"
     ]
    }
   ],
   "source": [
    "distribution = df['Year of Graduation'].value_counts().reset_index()\n",
    "distribution.columns = ['Graduation_year','Number_of_Students']\n",
    "distribution = distribution.sort_values('Graduation_year')\n",
    "print(distribution)"
   ]
  },
  {
   "cell_type": "markdown",
   "id": "83dd5637",
   "metadata": {},
   "source": [
    "* 3. What is the distribution of student’s experience in python programming ?"
   ]
  },
  {
   "cell_type": "code",
   "execution_count": 5,
   "id": "20564d7d",
   "metadata": {},
   "outputs": [
    {
     "name": "stdout",
     "output_type": "stream",
     "text": [
      " Months  Number_of_Students\n",
      "      5                1242\n",
      "      3                1008\n",
      "      8                 800\n",
      "      6                 738\n",
      "      7                 640\n",
      "      4                 466\n"
     ]
    }
   ],
   "source": [
    "experience = df['Experience with python (Months)'].value_counts().reset_index()\n",
    "experience.columns = ['Months','Number_of_Students']\n",
    "print(experience.to_string(index=False))"
   ]
  },
  {
   "cell_type": "markdown",
   "id": "1c530f6e",
   "metadata": {},
   "source": [
    "* 4. What is the average family income of student ?"
   ]
  },
  {
   "cell_type": "code",
   "execution_count": 6,
   "id": "eff3c96d",
   "metadata": {},
   "outputs": [
    {
     "name": "stdout",
     "output_type": "stream",
     "text": [
      "The average Family income is 1.29 lakhs\n"
     ]
    }
   ],
   "source": [
    "income_money_mapping = {\n",
    "    '0-2 Lakh' : 1,\n",
    "    '2-5 Lakh' : 3.5,\n",
    "    '5-7 Lakh' : 6,\n",
    "    '7 Lakh+' : 7\n",
    "}\n",
    "df['midpoint_income'] = df['Family Income'].map(income_money_mapping)\n",
    "average_income = df['midpoint_income'].mean()\n",
    "print(f\"The average Family income is {average_income:.2f} lakhs\")\n"
   ]
  },
  {
   "cell_type": "markdown",
   "id": "33950154",
   "metadata": {},
   "source": [
    "* 5. How does the GPA vary among different collages ? (Show Top 5 result only)."
   ]
  },
  {
   "cell_type": "code",
   "execution_count": 7,
   "id": "b63cb72c",
   "metadata": {},
   "outputs": [
    {
     "data": {
      "text/html": [
       "<div>\n",
       "<style scoped>\n",
       "    .dataframe tbody tr th:only-of-type {\n",
       "        vertical-align: middle;\n",
       "    }\n",
       "\n",
       "    .dataframe tbody tr th {\n",
       "        vertical-align: top;\n",
       "    }\n",
       "\n",
       "    .dataframe thead th {\n",
       "        text-align: right;\n",
       "    }\n",
       "</style>\n",
       "<table border=\"1\" class=\"dataframe\">\n",
       "  <thead>\n",
       "    <tr style=\"text-align: right;\">\n",
       "      <th></th>\n",
       "      <th>College Name</th>\n",
       "      <th>CGPA</th>\n",
       "    </tr>\n",
       "  </thead>\n",
       "  <tbody>\n",
       "    <tr>\n",
       "      <th>23</th>\n",
       "      <td>THAKUR INSTITUTE OF MANAGEMENT STUDIES, CAREER...</td>\n",
       "      <td>8.585714</td>\n",
       "    </tr>\n",
       "    <tr>\n",
       "      <th>20</th>\n",
       "      <td>St Xavier's College</td>\n",
       "      <td>8.578571</td>\n",
       "    </tr>\n",
       "    <tr>\n",
       "      <th>3</th>\n",
       "      <td>B. K. Birla College of Arts, Science &amp; Commerc...</td>\n",
       "      <td>8.456410</td>\n",
       "    </tr>\n",
       "    <tr>\n",
       "      <th>22</th>\n",
       "      <td>Symbiosis Institute of Technology, Pune</td>\n",
       "      <td>8.303448</td>\n",
       "    </tr>\n",
       "    <tr>\n",
       "      <th>2</th>\n",
       "      <td>AP SHAH INSTITUTE OF TECHNOLOGY</td>\n",
       "      <td>8.283333</td>\n",
       "    </tr>\n",
       "  </tbody>\n",
       "</table>\n",
       "</div>"
      ],
      "text/plain": [
       "                                         College Name      CGPA\n",
       "23  THAKUR INSTITUTE OF MANAGEMENT STUDIES, CAREER...  8.585714\n",
       "20                               St Xavier's College   8.578571\n",
       "3   B. K. Birla College of Arts, Science & Commerc...  8.456410\n",
       "22            Symbiosis Institute of Technology, Pune  8.303448\n",
       "2                    AP SHAH INSTITUTE OF TECHNOLOGY   8.283333"
      ]
     },
     "execution_count": 7,
     "metadata": {},
     "output_type": "execute_result"
    }
   ],
   "source": [
    "college_GPA = df.groupby('College Name')['CGPA'].mean().reset_index()\n",
    "college_gpa_sorted  =college_GPA.sort_values(by='CGPA',ascending=False)\n",
    "college_gpa_sorted.head(5)"
   ]
  },
  {
   "cell_type": "markdown",
   "id": "0b5b3820",
   "metadata": {},
   "source": [
    "* 6. Are there any outliers in the quantity (number of courses completed) attribute ?"
   ]
  },
  {
   "cell_type": "code",
   "execution_count": 8,
   "id": "c3703b12",
   "metadata": {},
   "outputs": [
    {
     "name": "stdout",
     "output_type": "stream",
     "text": [
      "There are no outliers in the 'quantity' attribute.\n"
     ]
    }
   ],
   "source": [
    "Q1 = df['Quantity'].quantile(0.25)\n",
    "Q3 = df['Quantity'].quantile(0.75)\n",
    "IQR = Q3 - Q1\n",
    "lower_bound = Q1 - 1.5 * IQR\n",
    "upper_bound = Q3 + 1.5 * IQR\n",
    "outliers = df[(df['Quantity'] < lower_bound) | (df['Quantity'] > upper_bound)]\n",
    "\n",
    "if outliers.empty:\n",
    "    print(\"There are no outliers in the 'quantity' attribute.\")\n",
    "else:\n",
    "    print(\"Potential outliers in the 'quantity' attribute:\")\n",
    "    print(outliers)"
   ]
  },
  {
   "cell_type": "markdown",
   "id": "1f41346e",
   "metadata": {},
   "source": [
    "* 7. What is the average CGPA for student from each city ?"
   ]
  },
  {
   "cell_type": "code",
   "execution_count": 9,
   "id": "b2ce9d8b",
   "metadata": {
    "scrolled": true
   },
   "outputs": [
    {
     "data": {
      "text/html": [
       "<div>\n",
       "<style scoped>\n",
       "    .dataframe tbody tr th:only-of-type {\n",
       "        vertical-align: middle;\n",
       "    }\n",
       "\n",
       "    .dataframe tbody tr th {\n",
       "        vertical-align: top;\n",
       "    }\n",
       "\n",
       "    .dataframe thead th {\n",
       "        text-align: right;\n",
       "    }\n",
       "</style>\n",
       "<table border=\"1\" class=\"dataframe\">\n",
       "  <thead>\n",
       "    <tr style=\"text-align: right;\">\n",
       "      <th></th>\n",
       "      <th>City</th>\n",
       "      <th>CGPA</th>\n",
       "    </tr>\n",
       "  </thead>\n",
       "  <tbody>\n",
       "    <tr>\n",
       "      <th>0</th>\n",
       "      <td>Agartala</td>\n",
       "      <td>7.660714</td>\n",
       "    </tr>\n",
       "    <tr>\n",
       "      <th>1</th>\n",
       "      <td>Agra</td>\n",
       "      <td>8.046429</td>\n",
       "    </tr>\n",
       "    <tr>\n",
       "      <th>2</th>\n",
       "      <td>Ahemdabad</td>\n",
       "      <td>8.190385</td>\n",
       "    </tr>\n",
       "    <tr>\n",
       "      <th>3</th>\n",
       "      <td>Ajmer</td>\n",
       "      <td>8.284314</td>\n",
       "    </tr>\n",
       "    <tr>\n",
       "      <th>4</th>\n",
       "      <td>Akola</td>\n",
       "      <td>8.021429</td>\n",
       "    </tr>\n",
       "    <tr>\n",
       "      <th>5</th>\n",
       "      <td>Aligarh</td>\n",
       "      <td>7.828571</td>\n",
       "    </tr>\n",
       "    <tr>\n",
       "      <th>6</th>\n",
       "      <td>Alipore</td>\n",
       "      <td>8.100000</td>\n",
       "    </tr>\n",
       "    <tr>\n",
       "      <th>7</th>\n",
       "      <td>Almora</td>\n",
       "      <td>8.039286</td>\n",
       "    </tr>\n",
       "    <tr>\n",
       "      <th>8</th>\n",
       "      <td>Ambala</td>\n",
       "      <td>8.018605</td>\n",
       "    </tr>\n",
       "    <tr>\n",
       "      <th>9</th>\n",
       "      <td>Ambikapur</td>\n",
       "      <td>8.000000</td>\n",
       "    </tr>\n",
       "  </tbody>\n",
       "</table>\n",
       "</div>"
      ],
      "text/plain": [
       "        City      CGPA\n",
       "0   Agartala  7.660714\n",
       "1       Agra  8.046429\n",
       "2  Ahemdabad  8.190385\n",
       "3      Ajmer  8.284314\n",
       "4      Akola  8.021429\n",
       "5    Aligarh  7.828571\n",
       "6    Alipore  8.100000\n",
       "7     Almora  8.039286\n",
       "8     Ambala  8.018605\n",
       "9  Ambikapur  8.000000"
      ]
     },
     "execution_count": 9,
     "metadata": {},
     "output_type": "execute_result"
    }
   ],
   "source": [
    "different_cities = df.groupby('City')['CGPA'].mean().reset_index()\n",
    "different_cities.head(10)"
   ]
  },
  {
   "cell_type": "markdown",
   "id": "dfae8cf4",
   "metadata": {},
   "source": [
    "* 8. Are there any correlation between family income and GPA?"
   ]
  },
  {
   "cell_type": "code",
   "execution_count": 10,
   "id": "ab59aa65",
   "metadata": {},
   "outputs": [
    {
     "name": "stdout",
     "output_type": "stream",
     "text": [
      "Correlation between Family Income and CGPA is: 0.02\n",
      "There is positive relationship between them.\n"
     ]
    }
   ],
   "source": [
    "mapping_income = {\n",
    "    '0-2 Lakh' : 1,\n",
    "    '2-5 Lakh' : 3.5,\n",
    "    '5-7 Lakh' : 6,\n",
    "    '7 Lakh+' : 7\n",
    "}\n",
    "df['midpoint_income'] = df['Family Income'].map(mapping_income)\n",
    "correlation= df['midpoint_income'].corr(df['CGPA'])\n",
    "print(f\"Correlation between Family Income and CGPA is: {correlation:.2f}\")\n",
    "\n",
    "if correlation > 0:\n",
    "    print(\"There is positive relationship between them.\")\n",
    "elif correlation <0:\n",
    "    print(\"There is negative relationship between them.\")\n",
    "else:\n",
    "    print(\"Not Signified\")"
   ]
  },
  {
   "cell_type": "markdown",
   "id": "4608a5e0",
   "metadata": {},
   "source": [
    "* 9. How many students from various cities ?"
   ]
  },
  {
   "cell_type": "code",
   "execution_count": 11,
   "id": "a23f192c",
   "metadata": {},
   "outputs": [
    {
     "data": {
      "image/png": "[encoded data removed]",
      "text/plain": [
       "<Figure size 640x480 with 1 Axes>"
      ]
     },
     "metadata": {},
     "output_type": "display_data"
    }
   ],
   "source": [
    "city_count = df['City'].value_counts()\n",
    "top_n = 7\n",
    "top_cities = city_count.head(top_n)\n",
    "top_cities.plot(kind='bar', color='skyblue')\n",
    "plt.title('Number of Students by City')\n",
    "plt.xlabel('City')\n",
    "plt.ylabel('Number of Students')\n",
    "plt.xticks(rotation=45)\n",
    "plt.show()"
   ]
  },
  {
   "cell_type": "markdown",
   "id": "eb991b64",
   "metadata": {},
   "source": [
    "* 10. Which event tend to attract more students for specific field of study?"
   ]
  },
  {
   "cell_type": "code",
   "execution_count": 12,
   "id": "cce1169d",
   "metadata": {},
   "outputs": [
    {
     "data": {
      "text/html": [
       "<div>\n",
       "<style scoped>\n",
       "    .dataframe tbody tr th:only-of-type {\n",
       "        vertical-align: middle;\n",
       "    }\n",
       "\n",
       "    .dataframe tbody tr th {\n",
       "        vertical-align: top;\n",
       "    }\n",
       "\n",
       "    .dataframe thead th {\n",
       "        text-align: right;\n",
       "    }\n",
       "</style>\n",
       "<table border=\"1\" class=\"dataframe\">\n",
       "  <thead>\n",
       "    <tr style=\"text-align: right;\">\n",
       "      <th></th>\n",
       "      <th>Events</th>\n",
       "      <th>Attendee Status</th>\n",
       "    </tr>\n",
       "  </thead>\n",
       "  <tbody>\n",
       "    <tr>\n",
       "      <th>8</th>\n",
       "      <td>Product Design &amp; Full Stack</td>\n",
       "      <td>842</td>\n",
       "    </tr>\n",
       "  </tbody>\n",
       "</table>\n",
       "</div>"
      ],
      "text/plain": [
       "                        Events  Attendee Status\n",
       "8  Product Design & Full Stack              842"
      ]
     },
     "execution_count": 12,
     "metadata": {},
     "output_type": "execute_result"
    }
   ],
   "source": [
    "total_events = df.groupby('Events')['Attendee Status'].count().reset_index()\n",
    "sort_total_events = total_events.sort_values(by='Attendee Status',ascending=False)\n",
    "sort_total_events.head(1)\n"
   ]
  },
  {
   "cell_type": "markdown",
   "id": "fbc08baa",
   "metadata": {},
   "source": [
    "* 11.Do students in leadership position during their collage year  tend to have higher GPAs or better Expected Salary ?"
   ]
  },
  {
   "cell_type": "code",
   "execution_count": 13,
   "id": "4d49729e",
   "metadata": {},
   "outputs": [
    {
     "name": "stdout",
     "output_type": "stream",
     "text": [
      "13.97 ~Expected Salary are better then GPAs for student who are in leadership position during thier college year\n"
     ]
    }
   ],
   "source": [
    "leadership_position = df[df['Leadership- skills']=='yes']\n",
    "\n",
    "avg_gpa_leadership_position = leadership_position['CGPA'].mean()\n",
    "avg_salary_leadership_position = leadership_position['Expected salary (Lac)'].mean()\n",
    "\n",
    "if avg_gpa_leadership_position > avg_salary_leadership_position:\n",
    "    print(f\"{avg_gpa_leadership_position:.2f} ~ GPAS are better than Expected Salary for student who are in leadership position during thier college year\")\n",
    "\n",
    "elif avg_gpa_leadership_position < avg_salary_leadership_position:\n",
    "    print(f\"{avg_salary_leadership_position:.2f} ~Expected Salary are better then GPAs for student who are in leadership position during thier college year\")\n",
    "else:\n",
    "    print('Both are equal at this data set')\n"
   ]
  },
  {
   "cell_type": "markdown",
   "id": "c75ed71d",
   "metadata": {},
   "source": [
    "* 12. How many student are graduating by the end of 2024 year ? "
   ]
  },
  {
   "cell_type": "code",
   "execution_count": 14,
   "id": "d4302aa1",
   "metadata": {},
   "outputs": [
    {
     "name": "stdout",
     "output_type": "stream",
     "text": [
      "Number of students graduating by the end of 2024:- 3047\n"
     ]
    }
   ],
   "source": [
    "graduation_year = df[df['Year of Graduation'] <= 2024]\n",
    "number_of_student = graduation_year['Year of Graduation'].count()\n",
    "print(\"Number of students graduating by the end of 2024:-\", number_of_student)\n",
    "\n",
    "\n"
   ]
  },
  {
   "cell_type": "markdown",
   "id": "e31ce312",
   "metadata": {},
   "source": [
    "* 13. Which promotion channel brings in more student participation for the event ?"
   ]
  },
  {
   "cell_type": "code",
   "execution_count": 15,
   "id": "c7981628",
   "metadata": {},
   "outputs": [
    {
     "name": "stdout",
     "output_type": "stream",
     "text": [
      "   How did you come to know about this event?  Attendee Status\n",
      "0                                   Classmate               70\n",
      "1                    Cloud Counselage Website              220\n",
      "2                           College Professor              434\n",
      "3                                       Email              593\n",
      "4                                    Facebook               89\n",
      "5                                      Friend               70\n",
      "6                                   Instagram               87\n",
      "7                                    LinkedIn              103\n",
      "8                                      Others              185\n",
      "9                                        SPOC              434\n",
      "10                                   Telegram               33\n",
      "11                                    Twitter                8\n",
      "12                                   Whatsapp             1294\n",
      "13                                    Youtube              124\n"
     ]
    }
   ],
   "source": [
    "df['How did you come to know about this event?'] = df['How did you come to know about this event?'].str.replace('/','|').str.split('|')\n",
    "df = df.explode('How did you come to know about this event?')\n",
    "df['How did you come to know about this event?'] = df['How did you come to know about this event?'].str.strip()\n",
    "total_participation = df.groupby('How did you come to know about this event?')['Attendee Status'].count().reset_index()\n",
    "print(total_participation)"
   ]
  },
  {
   "cell_type": "code",
   "execution_count": 16,
   "id": "450aeed7",
   "metadata": {},
   "outputs": [
    {
     "name": "stdout",
     "output_type": "stream",
     "text": [
      "   How did you come to know about this event?  Participant Count\n",
      "12                                   Whatsapp               1294\n"
     ]
    }
   ],
   "source": [
    "df['How did you come to know about this event?'] = df['How did you come to know about this event?'].str.strip()\n",
    "\n",
    "promotion_channel_counts = df.groupby('How did you come to know about this event?')['First Name'].count().reset_index()\n",
    "promotion_channel_counts.rename(columns={'First Name': 'Participant Count'}, inplace=True)\n",
    "most_effective_channel = promotion_channel_counts[promotion_channel_counts['Participant Count'] == promotion_channel_counts['Participant Count'].max()]\n",
    "print(most_effective_channel)"
   ]
  },
  {
   "cell_type": "markdown",
   "id": "ed22a8d4",
   "metadata": {},
   "source": [
    "* 14. Find the total number of student who attended the event related to data sceince (from all data science related course)"
   ]
  },
  {
   "cell_type": "code",
   "execution_count": 17,
   "id": "1c954e09",
   "metadata": {},
   "outputs": [
    {
     "name": "stdout",
     "output_type": "stream",
     "text": [
      "Total number of students who attended data science-related events: 1148\n"
     ]
    }
   ],
   "source": [
    "data_science_events = [\n",
    "    'Data Visualization using Power BI',\n",
    "    'Artificial Intelligence',\n",
    "    'Hello ML and DL',\n",
    "    'IS DATA SCIENCE FOR YOU?',\n",
    "    'RPA: A Boon or A Bane',\n",
    "    'The Agile Ways of Working',\n",
    "    'The SDLC & their transformations',\n",
    "    'Transformation with DevOps: The Easy Way'\n",
    "]\n",
    "data_science_attendance = df[df['Events'].isin(data_science_events)]\n",
    "total_students_attended_DS = data_science_attendance['First Name'].nunique()\n",
    "print(\"Total number of students who attended data science-related events:\", total_students_attended_DS)"
   ]
  },
  {
   "cell_type": "markdown",
   "id": "28b87e66",
   "metadata": {},
   "source": [
    "* 15.How does the expected salary vary based on factor like ‘CGPA’, ‘Family Income’, ‘Experience with python(Months)’?"
   ]
  },
  {
   "cell_type": "code",
   "execution_count": 18,
   "id": "c58a0484",
   "metadata": {},
   "outputs": [
    {
     "name": "stdout",
     "output_type": "stream",
     "text": [
      "Expected Salary Variation by Factors:\n",
      "   CGPA Family Income  Experience with python (Months)  Expected salary (Lac)\n",
      "0   6.5      5-7 Lakh                              4.0                    8.0\n",
      "1   6.7       7 Lakh+                              7.0                    6.0\n",
      "2   8.2      0-2 Lakh                              3.0                    7.0\n",
      "3   8.7      2-5 Lakh                              5.0                   10.0\n"
     ]
    }
   ],
   "source": [
    "for column in df.columns:\n",
    "    df[column] = df[column].drop_duplicates(keep='first').reset_index(drop=True)\n",
    "    \n",
    "salary_by_factors = df.groupby(['CGPA', 'Family Income', 'Experience with python (Months)'])['Expected salary (Lac)'].mean().reset_index()\n",
    "\n",
    "print(\"Expected Salary Variation by Factors:\")\n",
    "print(salary_by_factors)"
   ]
  },
  {
   "cell_type": "markdown",
   "id": "2c9ec6f9",
   "metadata": {},
   "source": [
    "* 16. How many students know about the event from their college? which of these top 5 collages?"
   ]
  },
  {
   "cell_type": "code",
   "execution_count": 19,
   "id": "6589aa03",
   "metadata": {},
   "outputs": [
    {
     "name": "stdout",
     "output_type": "stream",
     "text": [
      "Number of students who learned about the event from their colleges:\n",
      "AP SHAH INSTITUTE OF TECHNOLOGY     1\n",
      "Name: College Name, dtype: int64\n",
      "\n",
      "Top 5 colleges from which students learned about the event:\n",
      "AP SHAH INSTITUTE OF TECHNOLOGY     1\n",
      "Name: College Name, dtype: int64\n"
     ]
    }
   ],
   "source": [
    "college_attendees = df[df['Specify in \"Others\" (how did you come to know about this event)'] == 'College']\n",
    "college_counts = college_attendees['College Name'].value_counts()\n",
    "top_5_colleges = college_counts.head(5)\n",
    "\n",
    "print(\"Number of students who learned about the event from their colleges:\")\n",
    "print(college_counts)\n",
    "\n",
    "print(\"\\nTop 5 colleges from which students learned about the event:\")\n",
    "print(top_5_colleges)"
   ]
  },
  {
   "cell_type": "code",
   "execution_count": 20,
   "id": "633ecee3",
   "metadata": {},
   "outputs": [
    {
     "name": "stdout",
     "output_type": "stream",
     "text": [
      "Number of students who know about the event from their college: 1\n"
     ]
    }
   ],
   "source": [
    "college_known_students = df[df['Specify in \"Others\" (how did you come to know about this event)'].str.contains('College', case=False, na=False)]\n",
    "\n",
    "num_students_from_college = len(college_known_students)\n",
    "\n",
    "print(\"Number of students who know about the event from their college:\", num_students_from_college)"
   ]
  },
  {
   "cell_type": "code",
   "execution_count": null,
   "id": "0154c47a",
   "metadata": {},
   "outputs": [],
   "source": []
  }
 ],
 "metadata": {
  "kernelspec": {
   "display_name": "Python 3 (ipykernel)",
   "language": "python",
   "name": "python3"
  },
  "language_info": {
   "codemirror_mode": {
    "name": "ipython",
    "version": 3
   },
   "file_extension": ".py",
   "mimetype": "text/x-python",
   "name": "python",
   "nbconvert_exporter": "python",
   "pygments_lexer": "ipython3",
   "version": "3.11.4"
  }
 },
 "nbformat": 4,
 "nbformat_minor": 5
}
